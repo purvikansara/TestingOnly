{
 "cells": [
  {
   "cell_type": "code",
   "execution_count": 6,
   "id": "cb0b16cf",
   "metadata": {},
   "outputs": [
    {
     "name": "stdout",
     "output_type": "stream",
     "text": [
      "50\n"
     ]
    }
   ],
   "source": [
    "x = lambda a: a*10\n",
    "print(x(5))"
   ]
  },
  {
   "cell_type": "code",
   "execution_count": null,
   "id": "ed2e7e1b",
   "metadata": {},
   "outputs": [],
   "source": [
    "def multtiply_a(n):\n",
    "    "
   ]
  },
  {
   "cell_type": "code",
   "execution_count": 7,
   "id": "3e51128b",
   "metadata": {},
   "outputs": [
    {
     "name": "stdout",
     "output_type": "stream",
     "text": [
      "['1', '23']\n",
      "True\n",
      "['123']\n",
      "True\n",
      "['1', '23']\n",
      "False\n"
     ]
    }
   ],
   "source": [
    "import re\n",
    "def is_float(string):\n",
    "  \n",
    "    print(re.findall(r'\\d+', string))\n",
    "    re.ext\n",
    "    #print(string)\n",
    "    #print(string.str.extract('(\\d+)'))\n",
    "    if string.replace(\".\", \"\").isnumeric():\n",
    "        return True\n",
    "    else:\n",
    "        return False\n",
    "\n",
    "print(is_float('1.23')) # True\n",
    "print(is_float('123')) # True\n",
    "print(is_float('1.23a')) # False\n",
    "\n"
   ]
  },
  {
   "cell_type": "code",
   "execution_count": null,
   "id": "c59324fc",
   "metadata": {},
   "outputs": [],
   "source": []
  },
  {
   "cell_type": "code",
   "execution_count": null,
   "id": "d751f063",
   "metadata": {},
   "outputs": [],
   "source": []
  },
  {
   "cell_type": "code",
   "execution_count": null,
   "id": "fd388273",
   "metadata": {},
   "outputs": [],
   "source": []
  }
 ],
 "metadata": {
  "kernelspec": {
   "display_name": "Python (dojo-env)",
   "language": "python",
   "name": "dojo-env"
  },
  "language_info": {
   "codemirror_mode": {
    "name": "ipython",
    "version": 3
   },
   "file_extension": ".py",
   "mimetype": "text/x-python",
   "name": "python",
   "nbconvert_exporter": "python",
   "pygments_lexer": "ipython3",
   "version": "3.8.13"
  },
  "toc": {
   "base_numbering": 1,
   "nav_menu": {},
   "number_sections": true,
   "sideBar": true,
   "skip_h1_title": false,
   "title_cell": "Table of Contents",
   "title_sidebar": "Contents",
   "toc_cell": false,
   "toc_position": {},
   "toc_section_display": true,
   "toc_window_display": false
  }
 },
 "nbformat": 4,
 "nbformat_minor": 5
}
