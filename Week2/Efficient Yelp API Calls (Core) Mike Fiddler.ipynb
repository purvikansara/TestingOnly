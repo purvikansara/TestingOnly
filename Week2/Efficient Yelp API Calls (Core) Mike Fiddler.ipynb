{
 "cells": [
  {
   "cell_type": "markdown",
   "id": "ffbd2a47",
   "metadata": {},
   "source": [
    "Mike Fiddler Core 8/21/22"
   ]
  },
  {
   "cell_type": "code",
   "execution_count": 4,
   "id": "5cfa14ca",
   "metadata": {},
   "outputs": [],
   "source": [
    "# Standard Imports\n",
    "import numpy as np\n",
    "import pandas as pd\n",
    "import matplotlib.pyplot as plt\n",
    "import seaborn as sns\n",
    "# Additional Imports\n",
    "import os, json, math, time\n",
    "from yelpapi import YelpAPI\n",
    "from tqdm.notebook import tqdm_notebook"
   ]
  },
  {
   "cell_type": "code",
   "execution_count": 6,
   "id": "c2187c3b",
   "metadata": {},
   "outputs": [],
   "source": [
    "# Load API Credentials\n",
    "with open('/Users/purvikansara/.secret/yelp_api.json') as f:   #use your path here!\n",
    "    login = json.load(f)\n",
    "# Instantiate YelpAPI Variable\n",
    "yelp_api = YelpAPI(login['API Key'], timeout_s=5.0)"
   ]
  },
  {
   "cell_type": "code",
   "execution_count": 7,
   "id": "c7495907",
   "metadata": {},
   "outputs": [],
   "source": [
    "# set our API call parameters and filename before the first call\n",
    "LOCATION = 'Boston, MA,02119'\n",
    "TERM = 'Steak and Cheese'"
   ]
  },
  {
   "cell_type": "code",
   "execution_count": 8,
   "id": "57df16cb",
   "metadata": {},
   "outputs": [
    {
     "data": {
      "text/plain": [
       "'Data/results_in_progress_steak_and_cheese.json'"
      ]
     },
     "execution_count": 8,
     "metadata": {},
     "output_type": "execute_result"
    }
   ],
   "source": [
    "JSON_FILE_boston = f\"Data/results_in_progress_steak_and_cheese.json\"\n",
    "JSON_FILE_boston"
   ]
  },
  {
   "cell_type": "code",
   "execution_count": 9,
   "id": "eed234db",
   "metadata": {},
   "outputs": [
    {
     "name": "stdout",
     "output_type": "stream",
     "text": [
      "[i] Data/results_in_progress_steak_and_cheese.json not found. Saving empty list to file.\n"
     ]
    }
   ],
   "source": [
    "## Check if JSON_FILE exists\n",
    "file_exists = os.path.isfile(JSON_FILE_boston)\n",
    "## If it does not exist: \n",
    "if file_exists == False:\n",
    "    \n",
    "    ## CREATE ANY NEEDED FOLDERS\n",
    "    # Get the Folder Name only\n",
    "    folder = os.path.dirname(JSON_FILE_boston)\n",
    "    ## If JSON_FILE included a folder:\n",
    "    if len(folder)>0:\n",
    "        # create the folder\n",
    "        os.makedirs(folder,exist_ok=True)\n",
    "        \n",
    "        \n",
    "    ## INFORM USER AND SAVE EMPTY LIST\n",
    "    print(f\"[i] {JSON_FILE_boston} not found. Saving empty list to file.\")\n",
    "    \n",
    "    \n",
    "    ## save the first page of results\n",
    "    with open(JSON_FILE_boston,'w') as f:\n",
    "        json.dump([],f)  \n",
    "## If it exists, inform user\n",
    "else:\n",
    "    print(f\"[i] {JSON_FILE_boston} already exists.\")"
   ]
  },
  {
   "cell_type": "code",
   "execution_count": 10,
   "id": "7bc9707f",
   "metadata": {},
   "outputs": [
    {
     "name": "stdout",
     "output_type": "stream",
     "text": [
      "- 0 previous results found.\n"
     ]
    }
   ],
   "source": [
    "## Load previous results and use len of results for offset\n",
    "with open(JSON_FILE_boston,'r') as f:\n",
    "    previous_results = json.load(f)\n",
    "    \n",
    "## set offset based on previous results\n",
    "n_results = len(previous_results)\n",
    "print(f'- {n_results} previous results found.')"
   ]
  },
  {
   "cell_type": "code",
   "execution_count": 11,
   "id": "bfda8c37",
   "metadata": {},
   "outputs": [
    {
     "data": {
      "text/plain": [
       "dict_keys(['businesses', 'total', 'region'])"
      ]
     },
     "execution_count": 11,
     "metadata": {},
     "output_type": "execute_result"
    }
   ],
   "source": [
    "# use our yelp_api variable's search_query method to perform our API call\n",
    "results = yelp_api.search_query(location=LOCATION,\n",
    "                                term=TERM,\n",
    "                               offset=n_results)\n",
    "results.keys()"
   ]
  },
  {
   "cell_type": "code",
   "execution_count": 12,
   "id": "3dddbf21",
   "metadata": {},
   "outputs": [
    {
     "data": {
      "text/plain": [
       "354"
      ]
     },
     "execution_count": 12,
     "metadata": {},
     "output_type": "execute_result"
    }
   ],
   "source": [
    "## How many results total?\n",
    "total_results = results['total']\n",
    "total_results"
   ]
  },
  {
   "cell_type": "code",
   "execution_count": 13,
   "id": "be7b867a",
   "metadata": {},
   "outputs": [
    {
     "data": {
      "text/plain": [
       "20"
      ]
     },
     "execution_count": 13,
     "metadata": {},
     "output_type": "execute_result"
    }
   ],
   "source": [
    "## How many did we get the details for?\n",
    "results_per_page = len(results['businesses'])\n",
    "results_per_page"
   ]
  },
  {
   "cell_type": "code",
   "execution_count": 14,
   "id": "2133392b",
   "metadata": {},
   "outputs": [
    {
     "data": {
      "text/plain": [
       "18"
      ]
     },
     "execution_count": 14,
     "metadata": {},
     "output_type": "execute_result"
    }
   ],
   "source": [
    "# Use math.ceil to round up for the total number of pages of results.\n",
    "n_pages = math.ceil((results['total']-n_results)/ results_per_page)\n",
    "n_pages"
   ]
  },
  {
   "cell_type": "code",
   "execution_count": 15,
   "id": "d550dbbb",
   "metadata": {},
   "outputs": [],
   "source": [
    "# join new results with old list with extend and save to file\n",
    "previous_results.extend(results['businesses'])  \n",
    "with open(JSON_FILE_boston,'w') as f:\n",
    "     json.dump(previous_results,f)"
   ]
  },
  {
   "cell_type": "code",
   "execution_count": 16,
   "id": "980b8f47",
   "metadata": {},
   "outputs": [
    {
     "data": {
      "application/vnd.jupyter.widget-view+json": {
       "model_id": "fab06421706340e8b5b0d9521a0d5712",
       "version_major": 2,
       "version_minor": 0
      },
      "text/plain": [
       "  0%|          | 0/18 [00:00<?, ?it/s]"
      ]
     },
     "metadata": {},
     "output_type": "display_data"
    }
   ],
   "source": [
    "for i in tqdm_notebook( range(1,n_pages+1)):\n",
    "    time.sleep(.2)\n",
    "    ## Read in results in progress file and check the length\n",
    "    with open(JSON_FILE_boston, 'r') as f:\n",
    "        previous_results = json.load(f)\n",
    "    ## save number of results for to use as offset\n",
    "    n_results = len(previous_results)\n",
    "    ## use n_results as the OFFSET \n",
    "    results = yelp_api.search_query(location=LOCATION,\n",
    "                                    term=TERM, \n",
    "                                    offset=n_results)\n",
    "    \n",
    "    ## append new results and save to file\n",
    "    previous_results.extend(results['businesses'])\n",
    "    \n",
    "#     display(previous_results)\n",
    "    with open(JSON_FILE_boston,'w') as f:\n",
    "        json.dump(previous_results,f)"
   ]
  },
  {
   "cell_type": "code",
   "execution_count": 17,
   "id": "e3f5a3cc",
   "metadata": {},
   "outputs": [
    {
     "data": {
      "text/html": [
       "<div>\n",
       "<style scoped>\n",
       "    .dataframe tbody tr th:only-of-type {\n",
       "        vertical-align: middle;\n",
       "    }\n",
       "\n",
       "    .dataframe tbody tr th {\n",
       "        vertical-align: top;\n",
       "    }\n",
       "\n",
       "    .dataframe thead th {\n",
       "        text-align: right;\n",
       "    }\n",
       "</style>\n",
       "<table border=\"1\" class=\"dataframe\">\n",
       "  <thead>\n",
       "    <tr style=\"text-align: right;\">\n",
       "      <th></th>\n",
       "      <th>id</th>\n",
       "      <th>alias</th>\n",
       "      <th>name</th>\n",
       "      <th>image_url</th>\n",
       "      <th>is_closed</th>\n",
       "      <th>url</th>\n",
       "      <th>review_count</th>\n",
       "      <th>categories</th>\n",
       "      <th>rating</th>\n",
       "      <th>coordinates</th>\n",
       "      <th>transactions</th>\n",
       "      <th>price</th>\n",
       "      <th>location</th>\n",
       "      <th>phone</th>\n",
       "      <th>display_phone</th>\n",
       "      <th>distance</th>\n",
       "    </tr>\n",
       "  </thead>\n",
       "  <tbody>\n",
       "    <tr>\n",
       "      <th>0</th>\n",
       "      <td>V9JwfAKDxqzZaH8srJsu3g</td>\n",
       "      <td>joes-famous-steak-and-cheese-boston</td>\n",
       "      <td>Joe's Famous Steak &amp; Cheese</td>\n",
       "      <td>https://s3-media2.fl.yelpcdn.com/bphoto/39o7Q2...</td>\n",
       "      <td>False</td>\n",
       "      <td>https://www.yelp.com/biz/joes-famous-steak-and...</td>\n",
       "      <td>43</td>\n",
       "      <td>[{'alias': 'pizza', 'title': 'Pizza'}, {'alias...</td>\n",
       "      <td>4.0</td>\n",
       "      <td>{'latitude': 42.3288345, 'longitude': -71.0838...</td>\n",
       "      <td>[pickup, delivery]</td>\n",
       "      <td>$</td>\n",
       "      <td>{'address1': '140 Dudley St', 'address2': '', ...</td>\n",
       "      <td>+16174428824</td>\n",
       "      <td>(617) 442-8824</td>\n",
       "      <td>658.456126</td>\n",
       "    </tr>\n",
       "    <tr>\n",
       "      <th>1</th>\n",
       "      <td>oUuZ7qwvVcVdXrxQ0pcEJg</td>\n",
       "      <td>ugis-subs-boston</td>\n",
       "      <td>Ugi's Subs</td>\n",
       "      <td>https://s3-media2.fl.yelpcdn.com/bphoto/GrrXri...</td>\n",
       "      <td>False</td>\n",
       "      <td>https://www.yelp.com/biz/ugis-subs-boston?adju...</td>\n",
       "      <td>14</td>\n",
       "      <td>[{'alias': 'sandwiches', 'title': 'Sandwiches'}]</td>\n",
       "      <td>3.0</td>\n",
       "      <td>{'latitude': 42.3285599122569, 'longitude': -7...</td>\n",
       "      <td>[pickup, delivery]</td>\n",
       "      <td>$</td>\n",
       "      <td>{'address1': '68 Warren St', 'address2': '', '...</td>\n",
       "      <td>+16174277032</td>\n",
       "      <td>(617) 427-7032</td>\n",
       "      <td>614.397714</td>\n",
       "    </tr>\n",
       "    <tr>\n",
       "      <th>2</th>\n",
       "      <td>ubb9LaZSVa1A2FQ9YIfiaA</td>\n",
       "      <td>bennetts-sandwich-shop-boston-2</td>\n",
       "      <td>Bennett's Sandwich Shop</td>\n",
       "      <td>https://s3-media3.fl.yelpcdn.com/bphoto/4_BZjk...</td>\n",
       "      <td>False</td>\n",
       "      <td>https://www.yelp.com/biz/bennetts-sandwich-sho...</td>\n",
       "      <td>95</td>\n",
       "      <td>[{'alias': 'sandwiches', 'title': 'Sandwiches'...</td>\n",
       "      <td>4.5</td>\n",
       "      <td>{'latitude': 42.34319200093286, 'longitude': -...</td>\n",
       "      <td>[pickup, delivery]</td>\n",
       "      <td>$$</td>\n",
       "      <td>{'address1': '1348 Boylston St', 'address2': '...</td>\n",
       "      <td>+18572399736</td>\n",
       "      <td>(857) 239-9736</td>\n",
       "      <td>2529.979404</td>\n",
       "    </tr>\n",
       "    <tr>\n",
       "      <th>3</th>\n",
       "      <td>KbLm8n_ikUMkdx3Lz17u7A</td>\n",
       "      <td>rondos-sub-shop-boston</td>\n",
       "      <td>Rondo's Sub Shop</td>\n",
       "      <td>https://s3-media3.fl.yelpcdn.com/bphoto/0hpBt2...</td>\n",
       "      <td>False</td>\n",
       "      <td>https://www.yelp.com/biz/rondos-sub-shop-bosto...</td>\n",
       "      <td>122</td>\n",
       "      <td>[{'alias': 'sandwiches', 'title': 'Sandwiches'...</td>\n",
       "      <td>4.5</td>\n",
       "      <td>{'latitude': 42.3411312, 'longitude': -71.0541...</td>\n",
       "      <td>[delivery]</td>\n",
       "      <td>$</td>\n",
       "      <td>{'address1': '134 W Broadway', 'address2': '',...</td>\n",
       "      <td>+16172690274</td>\n",
       "      <td>(617) 269-0274</td>\n",
       "      <td>3219.730820</td>\n",
       "    </tr>\n",
       "    <tr>\n",
       "      <th>4</th>\n",
       "      <td>U-wNf5xZBHoHIH_Nlnif7g</td>\n",
       "      <td>nicoles-pizza-boston-2</td>\n",
       "      <td>Nicole's Pizza</td>\n",
       "      <td>https://s3-media1.fl.yelpcdn.com/bphoto/rigmGT...</td>\n",
       "      <td>False</td>\n",
       "      <td>https://www.yelp.com/biz/nicoles-pizza-boston-...</td>\n",
       "      <td>125</td>\n",
       "      <td>[{'alias': 'pizza', 'title': 'Pizza'}, {'alias...</td>\n",
       "      <td>3.5</td>\n",
       "      <td>{'latitude': 42.34237, 'longitude': -71.07518}</td>\n",
       "      <td>[pickup, delivery]</td>\n",
       "      <td>$</td>\n",
       "      <td>{'address1': '639 Tremont St', 'address2': '',...</td>\n",
       "      <td>+16172660223</td>\n",
       "      <td>(617) 266-0223</td>\n",
       "      <td>2286.163666</td>\n",
       "    </tr>\n",
       "  </tbody>\n",
       "</table>\n",
       "</div>"
      ],
      "text/plain": [
       "                       id                                alias  \\\n",
       "0  V9JwfAKDxqzZaH8srJsu3g  joes-famous-steak-and-cheese-boston   \n",
       "1  oUuZ7qwvVcVdXrxQ0pcEJg                     ugis-subs-boston   \n",
       "2  ubb9LaZSVa1A2FQ9YIfiaA      bennetts-sandwich-shop-boston-2   \n",
       "3  KbLm8n_ikUMkdx3Lz17u7A               rondos-sub-shop-boston   \n",
       "4  U-wNf5xZBHoHIH_Nlnif7g               nicoles-pizza-boston-2   \n",
       "\n",
       "                          name  \\\n",
       "0  Joe's Famous Steak & Cheese   \n",
       "1                   Ugi's Subs   \n",
       "2      Bennett's Sandwich Shop   \n",
       "3             Rondo's Sub Shop   \n",
       "4               Nicole's Pizza   \n",
       "\n",
       "                                           image_url  is_closed  \\\n",
       "0  https://s3-media2.fl.yelpcdn.com/bphoto/39o7Q2...      False   \n",
       "1  https://s3-media2.fl.yelpcdn.com/bphoto/GrrXri...      False   \n",
       "2  https://s3-media3.fl.yelpcdn.com/bphoto/4_BZjk...      False   \n",
       "3  https://s3-media3.fl.yelpcdn.com/bphoto/0hpBt2...      False   \n",
       "4  https://s3-media1.fl.yelpcdn.com/bphoto/rigmGT...      False   \n",
       "\n",
       "                                                 url  review_count  \\\n",
       "0  https://www.yelp.com/biz/joes-famous-steak-and...            43   \n",
       "1  https://www.yelp.com/biz/ugis-subs-boston?adju...            14   \n",
       "2  https://www.yelp.com/biz/bennetts-sandwich-sho...            95   \n",
       "3  https://www.yelp.com/biz/rondos-sub-shop-bosto...           122   \n",
       "4  https://www.yelp.com/biz/nicoles-pizza-boston-...           125   \n",
       "\n",
       "                                          categories  rating  \\\n",
       "0  [{'alias': 'pizza', 'title': 'Pizza'}, {'alias...     4.0   \n",
       "1   [{'alias': 'sandwiches', 'title': 'Sandwiches'}]     3.0   \n",
       "2  [{'alias': 'sandwiches', 'title': 'Sandwiches'...     4.5   \n",
       "3  [{'alias': 'sandwiches', 'title': 'Sandwiches'...     4.5   \n",
       "4  [{'alias': 'pizza', 'title': 'Pizza'}, {'alias...     3.5   \n",
       "\n",
       "                                         coordinates        transactions  \\\n",
       "0  {'latitude': 42.3288345, 'longitude': -71.0838...  [pickup, delivery]   \n",
       "1  {'latitude': 42.3285599122569, 'longitude': -7...  [pickup, delivery]   \n",
       "2  {'latitude': 42.34319200093286, 'longitude': -...  [pickup, delivery]   \n",
       "3  {'latitude': 42.3411312, 'longitude': -71.0541...          [delivery]   \n",
       "4     {'latitude': 42.34237, 'longitude': -71.07518}  [pickup, delivery]   \n",
       "\n",
       "  price                                           location         phone  \\\n",
       "0     $  {'address1': '140 Dudley St', 'address2': '', ...  +16174428824   \n",
       "1     $  {'address1': '68 Warren St', 'address2': '', '...  +16174277032   \n",
       "2    $$  {'address1': '1348 Boylston St', 'address2': '...  +18572399736   \n",
       "3     $  {'address1': '134 W Broadway', 'address2': '',...  +16172690274   \n",
       "4     $  {'address1': '639 Tremont St', 'address2': '',...  +16172660223   \n",
       "\n",
       "    display_phone     distance  \n",
       "0  (617) 442-8824   658.456126  \n",
       "1  (617) 427-7032   614.397714  \n",
       "2  (857) 239-9736  2529.979404  \n",
       "3  (617) 269-0274  3219.730820  \n",
       "4  (617) 266-0223  2286.163666  "
      ]
     },
     "metadata": {},
     "output_type": "display_data"
    },
    {
     "data": {
      "text/html": [
       "<div>\n",
       "<style scoped>\n",
       "    .dataframe tbody tr th:only-of-type {\n",
       "        vertical-align: middle;\n",
       "    }\n",
       "\n",
       "    .dataframe tbody tr th {\n",
       "        vertical-align: top;\n",
       "    }\n",
       "\n",
       "    .dataframe thead th {\n",
       "        text-align: right;\n",
       "    }\n",
       "</style>\n",
       "<table border=\"1\" class=\"dataframe\">\n",
       "  <thead>\n",
       "    <tr style=\"text-align: right;\">\n",
       "      <th></th>\n",
       "      <th>id</th>\n",
       "      <th>alias</th>\n",
       "      <th>name</th>\n",
       "      <th>image_url</th>\n",
       "      <th>is_closed</th>\n",
       "      <th>url</th>\n",
       "      <th>review_count</th>\n",
       "      <th>categories</th>\n",
       "      <th>rating</th>\n",
       "      <th>coordinates</th>\n",
       "      <th>transactions</th>\n",
       "      <th>price</th>\n",
       "      <th>location</th>\n",
       "      <th>phone</th>\n",
       "      <th>display_phone</th>\n",
       "      <th>distance</th>\n",
       "    </tr>\n",
       "  </thead>\n",
       "  <tbody>\n",
       "    <tr>\n",
       "      <th>349</th>\n",
       "      <td>nPDICQyiWkmkHRIs7rZp_A</td>\n",
       "      <td>subway-boston-50</td>\n",
       "      <td>Subway</td>\n",
       "      <td>https://s3-media4.fl.yelpcdn.com/bphoto/9h34OO...</td>\n",
       "      <td>False</td>\n",
       "      <td>https://www.yelp.com/biz/subway-boston-50?adju...</td>\n",
       "      <td>9</td>\n",
       "      <td>[{'alias': 'sandwiches', 'title': 'Sandwiches'}]</td>\n",
       "      <td>2.5</td>\n",
       "      <td>{'latitude': 42.3594975, 'longitude': -71.0587...</td>\n",
       "      <td>[pickup, delivery]</td>\n",
       "      <td>$</td>\n",
       "      <td>{'address1': '100 City Hall Plz', 'address2': ...</td>\n",
       "      <td>+18572335787</td>\n",
       "      <td>(857) 233-5787</td>\n",
       "      <td>4579.158931</td>\n",
       "    </tr>\n",
       "    <tr>\n",
       "      <th>350</th>\n",
       "      <td>MHx0eqYHPu72dxjoU6cMMQ</td>\n",
       "      <td>subway-boston-49</td>\n",
       "      <td>Subway</td>\n",
       "      <td>https://s3-media3.fl.yelpcdn.com/bphoto/l6dInA...</td>\n",
       "      <td>False</td>\n",
       "      <td>https://www.yelp.com/biz/subway-boston-49?adju...</td>\n",
       "      <td>18</td>\n",
       "      <td>[{'alias': 'sandwiches', 'title': 'Sandwiches'}]</td>\n",
       "      <td>2.5</td>\n",
       "      <td>{'latitude': 42.3569291795438, 'longitude': -7...</td>\n",
       "      <td>[pickup, delivery]</td>\n",
       "      <td>$</td>\n",
       "      <td>{'address1': '274 Franklin St', 'address2': ''...</td>\n",
       "      <td>+16173307883</td>\n",
       "      <td>(617) 330-7883</td>\n",
       "      <td>4555.508828</td>\n",
       "    </tr>\n",
       "    <tr>\n",
       "      <th>351</th>\n",
       "      <td>s9jbBsXvoCz9fB1LJ70vXA</td>\n",
       "      <td>viga-italian-eatery-and-caterer-boston-4</td>\n",
       "      <td>Viga Italian Eatery &amp; Caterer</td>\n",
       "      <td>https://s3-media3.fl.yelpcdn.com/bphoto/xsj8K1...</td>\n",
       "      <td>False</td>\n",
       "      <td>https://www.yelp.com/biz/viga-italian-eatery-a...</td>\n",
       "      <td>85</td>\n",
       "      <td>[{'alias': 'pizza', 'title': 'Pizza'}, {'alias...</td>\n",
       "      <td>3.5</td>\n",
       "      <td>{'latitude': 42.35784, 'longitude': -71.05834}</td>\n",
       "      <td>[delivery, pickup]</td>\n",
       "      <td>$</td>\n",
       "      <td>{'address1': '275 Washington St', 'address2': ...</td>\n",
       "      <td>+16177428442</td>\n",
       "      <td>(617) 742-8442</td>\n",
       "      <td>4423.377905</td>\n",
       "    </tr>\n",
       "    <tr>\n",
       "      <th>352</th>\n",
       "      <td>19xuTm-mcnG4k7rF3ZTmeg</td>\n",
       "      <td>clover-food-truck-boston-16</td>\n",
       "      <td>Clover Food Truck</td>\n",
       "      <td>https://s3-media1.fl.yelpcdn.com/bphoto/HjACIU...</td>\n",
       "      <td>False</td>\n",
       "      <td>https://www.yelp.com/biz/clover-food-truck-bos...</td>\n",
       "      <td>487</td>\n",
       "      <td>[{'alias': 'newamerican', 'title': 'American (...</td>\n",
       "      <td>4.0</td>\n",
       "      <td>{'latitude': 42.3519287109375, 'longitude': -7...</td>\n",
       "      <td>[]</td>\n",
       "      <td>$</td>\n",
       "      <td>{'address1': '', 'address2': '', 'address3': '...</td>\n",
       "      <td></td>\n",
       "      <td></td>\n",
       "      <td>3748.286977</td>\n",
       "    </tr>\n",
       "    <tr>\n",
       "      <th>353</th>\n",
       "      <td>g9tC1E_jX-8eTdGMMuLpow</td>\n",
       "      <td>subway-roslindale-2</td>\n",
       "      <td>Subway</td>\n",
       "      <td>https://s3-media1.fl.yelpcdn.com/bphoto/BPREUe...</td>\n",
       "      <td>False</td>\n",
       "      <td>https://www.yelp.com/biz/subway-roslindale-2?a...</td>\n",
       "      <td>6</td>\n",
       "      <td>[{'alias': 'sandwiches', 'title': 'Sandwiches'}]</td>\n",
       "      <td>3.5</td>\n",
       "      <td>{'latitude': 42.2857982191418, 'longitude': -7...</td>\n",
       "      <td>[delivery, pickup]</td>\n",
       "      <td>$</td>\n",
       "      <td>{'address1': '4238-4244 Washington St', 'addre...</td>\n",
       "      <td>+16173235002</td>\n",
       "      <td>(617) 323-5002</td>\n",
       "      <td>5489.669544</td>\n",
       "    </tr>\n",
       "  </tbody>\n",
       "</table>\n",
       "</div>"
      ],
      "text/plain": [
       "                         id                                     alias  \\\n",
       "349  nPDICQyiWkmkHRIs7rZp_A                          subway-boston-50   \n",
       "350  MHx0eqYHPu72dxjoU6cMMQ                          subway-boston-49   \n",
       "351  s9jbBsXvoCz9fB1LJ70vXA  viga-italian-eatery-and-caterer-boston-4   \n",
       "352  19xuTm-mcnG4k7rF3ZTmeg               clover-food-truck-boston-16   \n",
       "353  g9tC1E_jX-8eTdGMMuLpow                       subway-roslindale-2   \n",
       "\n",
       "                              name  \\\n",
       "349                         Subway   \n",
       "350                         Subway   \n",
       "351  Viga Italian Eatery & Caterer   \n",
       "352              Clover Food Truck   \n",
       "353                         Subway   \n",
       "\n",
       "                                             image_url  is_closed  \\\n",
       "349  https://s3-media4.fl.yelpcdn.com/bphoto/9h34OO...      False   \n",
       "350  https://s3-media3.fl.yelpcdn.com/bphoto/l6dInA...      False   \n",
       "351  https://s3-media3.fl.yelpcdn.com/bphoto/xsj8K1...      False   \n",
       "352  https://s3-media1.fl.yelpcdn.com/bphoto/HjACIU...      False   \n",
       "353  https://s3-media1.fl.yelpcdn.com/bphoto/BPREUe...      False   \n",
       "\n",
       "                                                   url  review_count  \\\n",
       "349  https://www.yelp.com/biz/subway-boston-50?adju...             9   \n",
       "350  https://www.yelp.com/biz/subway-boston-49?adju...            18   \n",
       "351  https://www.yelp.com/biz/viga-italian-eatery-a...            85   \n",
       "352  https://www.yelp.com/biz/clover-food-truck-bos...           487   \n",
       "353  https://www.yelp.com/biz/subway-roslindale-2?a...             6   \n",
       "\n",
       "                                            categories  rating  \\\n",
       "349   [{'alias': 'sandwiches', 'title': 'Sandwiches'}]     2.5   \n",
       "350   [{'alias': 'sandwiches', 'title': 'Sandwiches'}]     2.5   \n",
       "351  [{'alias': 'pizza', 'title': 'Pizza'}, {'alias...     3.5   \n",
       "352  [{'alias': 'newamerican', 'title': 'American (...     4.0   \n",
       "353   [{'alias': 'sandwiches', 'title': 'Sandwiches'}]     3.5   \n",
       "\n",
       "                                           coordinates        transactions  \\\n",
       "349  {'latitude': 42.3594975, 'longitude': -71.0587...  [pickup, delivery]   \n",
       "350  {'latitude': 42.3569291795438, 'longitude': -7...  [pickup, delivery]   \n",
       "351     {'latitude': 42.35784, 'longitude': -71.05834}  [delivery, pickup]   \n",
       "352  {'latitude': 42.3519287109375, 'longitude': -7...                  []   \n",
       "353  {'latitude': 42.2857982191418, 'longitude': -7...  [delivery, pickup]   \n",
       "\n",
       "    price                                           location         phone  \\\n",
       "349     $  {'address1': '100 City Hall Plz', 'address2': ...  +18572335787   \n",
       "350     $  {'address1': '274 Franklin St', 'address2': ''...  +16173307883   \n",
       "351     $  {'address1': '275 Washington St', 'address2': ...  +16177428442   \n",
       "352     $  {'address1': '', 'address2': '', 'address3': '...                 \n",
       "353     $  {'address1': '4238-4244 Washington St', 'addre...  +16173235002   \n",
       "\n",
       "      display_phone     distance  \n",
       "349  (857) 233-5787  4579.158931  \n",
       "350  (617) 330-7883  4555.508828  \n",
       "351  (617) 742-8442  4423.377905  \n",
       "352                  3748.286977  \n",
       "353  (617) 323-5002  5489.669544  "
      ]
     },
     "metadata": {},
     "output_type": "display_data"
    }
   ],
   "source": [
    "# load final results\n",
    "final_df = pd.read_json(JSON_FILE_boston)\n",
    "display(final_df.head(), final_df.tail())"
   ]
  },
  {
   "cell_type": "code",
   "execution_count": 18,
   "id": "1dd52edd",
   "metadata": {},
   "outputs": [
    {
     "data": {
      "text/plain": [
       "0"
      ]
     },
     "execution_count": 18,
     "metadata": {},
     "output_type": "execute_result"
    }
   ],
   "source": [
    "# check for duplicate IDs\n",
    "final_df.duplicated(subset='id').sum()"
   ]
  },
  {
   "cell_type": "code",
   "execution_count": 19,
   "id": "813d02f0",
   "metadata": {},
   "outputs": [],
   "source": [
    "final_df.drop_duplicates(subset = 'id', inplace= True)"
   ]
  },
  {
   "cell_type": "code",
   "execution_count": 20,
   "id": "50156d4a",
   "metadata": {},
   "outputs": [],
   "source": [
    "# save the final results to a compressed csv\n",
    "final_df.to_csv('Data/final_results_steak_and_cheese.csv.gz', compression='gzip',index=False)"
   ]
  },
  {
   "cell_type": "code",
   "execution_count": null,
   "id": "ca555634",
   "metadata": {},
   "outputs": [],
   "source": []
  },
  {
   "cell_type": "code",
   "execution_count": null,
   "id": "0dfa2a32",
   "metadata": {},
   "outputs": [],
   "source": []
  }
 ],
 "metadata": {
  "kernelspec": {
   "display_name": "Python (dojo-env)",
   "language": "python",
   "name": "dojo-env"
  },
  "language_info": {
   "codemirror_mode": {
    "name": "ipython",
    "version": 3
   },
   "file_extension": ".py",
   "mimetype": "text/x-python",
   "name": "python",
   "nbconvert_exporter": "python",
   "pygments_lexer": "ipython3",
   "version": "3.8.13"
  },
  "toc": {
   "base_numbering": 1,
   "nav_menu": {},
   "number_sections": false,
   "sideBar": true,
   "skip_h1_title": false,
   "title_cell": "Table of Contents",
   "title_sidebar": "Contents",
   "toc_cell": false,
   "toc_position": {},
   "toc_section_display": true,
   "toc_window_display": false
  }
 },
 "nbformat": 4,
 "nbformat_minor": 5
}
